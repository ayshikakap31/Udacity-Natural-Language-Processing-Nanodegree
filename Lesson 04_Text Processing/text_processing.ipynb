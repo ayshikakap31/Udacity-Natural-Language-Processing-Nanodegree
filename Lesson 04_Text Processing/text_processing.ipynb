{
 "cells": [
  {
   "cell_type": "markdown",
   "metadata": {},
   "source": [
    "## Capturing Text Data"
   ]
  },
  {
   "cell_type": "markdown",
   "metadata": {},
   "source": [
    "### Plain Text"
   ]
  },
  {
   "cell_type": "code",
   "execution_count": 3,
   "metadata": {},
   "outputs": [
    {
     "name": "stdout",
     "output_type": "stream",
     "text": [
      "Hieroglyphic writing dates from c. 3000 BC, and is composed of hundreds of symbols. A hieroglyph can represent a word, a sound, or a silent determinative; and the same symbol can serve different purposes in different contexts. Hieroglyphs were a formal script, used on stone monuments and in tombs, that could be as detailed as individual works of art.\n",
      "\n"
     ]
    }
   ],
   "source": [
    "import os\n",
    "\n",
    "with open(os.path.join(\"data\", \"D:/Codes\\Extra_courses/Natural Language Processing/Part 05/Lesson 04_Text Processing\\hieroglyph.txt\"),\"r\") as f:\n",
    "    text = f.read()\n",
    "    print(text)"
   ]
  },
  {
   "cell_type": "markdown",
   "metadata": {},
   "source": [
    "### Tabular Data"
   ]
  },
  {
   "cell_type": "code",
   "execution_count": 4,
   "metadata": {},
   "outputs": [
    {
     "data": {
      "text/html": [
       "<div>\n",
       "<style scoped>\n",
       "    .dataframe tbody tr th:only-of-type {\n",
       "        vertical-align: middle;\n",
       "    }\n",
       "\n",
       "    .dataframe tbody tr th {\n",
       "        vertical-align: top;\n",
       "    }\n",
       "\n",
       "    .dataframe thead th {\n",
       "        text-align: right;\n",
       "    }\n",
       "</style>\n",
       "<table border=\"1\" class=\"dataframe\">\n",
       "  <thead>\n",
       "    <tr style=\"text-align: right;\">\n",
       "      <th></th>\n",
       "      <th>publisher</th>\n",
       "      <th>title</th>\n",
       "    </tr>\n",
       "  </thead>\n",
       "  <tbody>\n",
       "    <tr>\n",
       "      <th>0</th>\n",
       "      <td>Livemint</td>\n",
       "      <td>fed's charles plosser sees high bar for change...</td>\n",
       "    </tr>\n",
       "    <tr>\n",
       "      <th>1</th>\n",
       "      <td>IFA Magazine</td>\n",
       "      <td>us open: stocks fall after fed official hints ...</td>\n",
       "    </tr>\n",
       "    <tr>\n",
       "      <th>2</th>\n",
       "      <td>IFA Magazine</td>\n",
       "      <td>fed risks falling 'behind the curve', charles ...</td>\n",
       "    </tr>\n",
       "    <tr>\n",
       "      <th>3</th>\n",
       "      <td>Moneynews</td>\n",
       "      <td>fed's plosser: nasty weather has curbed job gr...</td>\n",
       "    </tr>\n",
       "    <tr>\n",
       "      <th>4</th>\n",
       "      <td>NASDAQ</td>\n",
       "      <td>plosser: fed may have to accelerate tapering pace</td>\n",
       "    </tr>\n",
       "  </tbody>\n",
       "</table>\n",
       "</div>"
      ],
      "text/plain": [
       "      publisher                                              title\n",
       "0      Livemint  fed's charles plosser sees high bar for change...\n",
       "1  IFA Magazine  us open: stocks fall after fed official hints ...\n",
       "2  IFA Magazine  fed risks falling 'behind the curve', charles ...\n",
       "3     Moneynews  fed's plosser: nasty weather has curbed job gr...\n",
       "4        NASDAQ  plosser: fed may have to accelerate tapering pace"
      ]
     },
     "execution_count": 4,
     "metadata": {},
     "output_type": "execute_result"
    }
   ],
   "source": [
    "import pandas as pd\n",
    "\n",
    "df = pd.read_csv(os.path.join(\"data\", \"D:/Codes/Extra_courses/Natural Language Processing/Part 05/Lesson 04_Text Processing/news.csv\"))\n",
    "df.head()[['publisher', 'title']]\n",
    "\n",
    "df['title'] = df['title'].str.lower()\n",
    "df.head()[['publisher', 'title']]"
   ]
  },
  {
   "cell_type": "markdown",
   "metadata": {},
   "source": [
    "### Online Resource"
   ]
  },
  {
   "cell_type": "code",
   "execution_count": 6,
   "metadata": {},
   "outputs": [
    {
     "name": "stdout",
     "output_type": "stream",
     "text": [
      "{\n",
      "    \"message\": \"Not authenticated\"\n",
      "}\n"
     ]
    }
   ],
   "source": [
    "import requests\n",
    "import json\n",
    "\n",
    "r = requests.get(\"https://quotes.rest/qod.json\")\n",
    "res = r.json()\n",
    "print(json.dumps(res, indent=4))"
   ]
  },
  {
   "cell_type": "markdown",
   "metadata": {},
   "source": [
    "## Cleaning"
   ]
  },
  {
   "cell_type": "code",
   "execution_count": null,
   "metadata": {},
   "outputs": [
    {
     "name": "stdout",
     "output_type": "stream",
     "text": [
      "<html lang=\"en\" op=\"news\"><head><meta name=\"referrer\" content=\"origin\"><meta name=\"viewport\" content=\"width=device-width, initial-scale=1.0\"><link rel=\"stylesheet\" type=\"text/css\" href=\"news.css?WypGGSGdo3YHPcP8U8jK\">\n",
      "        <link rel=\"icon\" href=\"y18.svg\">\n",
      "                  <link rel=\"alternate\" type=\"application/rss+xml\" title=\"RSS\" href=\"rss\">\n",
      "        <title>Hacker News</title></head><body><center><table id=\"hnmain\" border=\"0\" cellpadding=\"0\" cellspacing=\"0\" width=\"85%\" bgcolor=\"#f6f6ef\">\n",
      "        <tr><td bgcolor=\"#ff6600\"><table border=\"0\" cellpadding=\"0\" cellspacing=\"0\" width=\"100%\" style=\"padding:2px\"><tr><td style=\"width:18px;padding-right:4px\"><a href=\"https://news.ycombinator.com\"><img src=\"y18.svg\" width=\"18\" height=\"18\" style=\"border:1px white solid; display:block\"></a></td>\n",
      "                  <td style=\"line-height:12pt; height:10px;\"><span class=\"pagetop\"><b class=\"hnname\"><a href=\"news\">Hacker News</a></b>\n",
      "                            <a href=\"newest\">new</a> | <a href=\"front\">past</a> | <a href=\"newcomments\">comments</a> | <a href=\"ask\">ask</a> | <a href=\"show\">show</a> | <a href=\"jobs\">jobs</a> | <a href=\"submit\" rel=\"nofollow\">submit</a>            </span></td><td style=\"text-align:right;padding-right:4px;\"><span class=\"pagetop\">\n",
      "                              <a href=\"login?goto=news\">login</a>\n",
      "                          </span></td>\n",
      "              </tr></table></td></tr>\n",
      "<tr id=\"pagespace\" title=\"\" style=\"height:10px\"></tr><tr><td><table border=\"0\" cellpadding=\"0\" cellspacing=\"0\">\n",
      "            <tr class='athing submission' id='43980845'>\n",
      "      <td align=\"right\" valign=\"top\" class=\"title\"><span class=\"rank\">1.</span></td>      <td valign=\"top\" class=\"votelinks\"><center><a id='up_43980845' href='vote?id=43980845&amp;how=up&amp;goto=news'><div class='votearrow' title='upvote'></div></a></center></td><td class=\"title\"><span class=\"titleline\"><a href=\"https://www.sixthtone.com/news/1017072\">Bus stops here: Shanghai lets riders design their own routes</a><span class=\"sitebit comhead\"> (<a href=\"from?site=sixthtone.com\"><span class=\"sitestr\">sixthtone.com</span></a>)</span></span></td></tr><tr><td colspan=\"2\"></td><td class=\"subtext\"><span class=\"subline\">\n",
      "          <span class=\"score\" id=\"score_43980845\">172 points</span> by <a href=\"user?id=anigbrowl\" class=\"hnuser\">anigbrowl</a> <span class=\"age\" title=\"2025-05-14T04:33:21 1747197201\"><a href=\"item?id=43980845\">3 hours ago</a></span> <span id=\"unv_43980845\"></span> | <a href=\"hide?id=43980845&amp;goto=news\">hide</a> | <a href=\"item?id=43980845\">101&nbsp;comments</a>        </span>\n",
      "              </td></tr>\n",
      "      <tr class=\"spacer\" style=\"height:5px\"></tr>\n",
      "                <tr class='athing submission' id='43944199'>\n",
      "      <td align=\"right\" valign=\"top\" class=\"title\"><span class=\"rank\">2.</span></td>      <td valign=\"top\" class=\"votelinks\"><center><a id='up_43944199' href='vote?id=43944199&amp;how=up&amp;goto=news'><div class='votearrow' title='upvote'></div></a></center></td><td class=\"title\"><span class=\"titleline\"><a href=\"https://rpginabox.com/\">RPG in a Box</a><span class=\"sitebit comhead\"> (<a href=\"from?site=rpginabox.com\"><span class=\"sitestr\">rpginabox.com</span></a>)</span></span></td></tr><tr><td colspan=\"2\"></td><td class=\"subtext\"><span class=\"subline\">\n",
      "          <span class=\"score\" id=\"score_43944199\">108 points</span> by <a href=\"user?id=skibz\" class=\"hnuser\">skibz</a> <span class=\"age\" title=\"2025-05-10T08:52:47 1746867167\"><a href=\"item?id=43944199\">4 hours ago</a></span> <span id=\"unv_43944199\"></span> | <a href=\"hide?id=43944199&amp;goto=news\">hide</a> | <a href=\"item?id=43944199\">12&nbsp;comments</a>        </span>\n",
      "              </td></tr>\n",
      "      <tr class=\"spacer\" style=\"height:5px\"></tr>\n",
      "                <tr class='athing submission' id='43978357'>\n",
      "      <td align=\"right\" valign=\"top\" class=\"title\"><span class=\"rank\">3.</span></td>      <td valign=\"top\" class=\"votelinks\"><center><a id='up_43978357' href='vote?id=43978357&amp;how=up&amp;goto=news'><div class='votearrow' title='upvote'></div></a></center></td><td class=\"title\"><span class=\"titleline\"><a href=\"https://arxiv.org/abs/2504.09246\">Type-constrained code generation with language models</a><span class=\"sitebit comhead\"> (<a href=\"from?site=arxiv.org\"><span class=\"sitestr\">arxiv.org</span></a>)</span></span></td></tr><tr><td colspan=\"2\"></td><td class=\"subtext\"><span class=\"subline\">\n",
      "          <span class=\"score\" id=\"score_43978357\">187 points</span> by <a href=\"user?id=tough\" class=\"hnuser\">tough</a> <span class=\"age\" title=\"2025-05-13T22:15:30 1747174530\"><a href=\"item?id=43978357\">8 hours ago</a></span> <span id=\"unv_43978357\"></span> | <a href=\"hide?id=43978357&amp;goto=news\">hide</a> | <a href=\"item?id=43978357\">65&nbsp;comments</a>        </span>\n",
      "              </td></tr>\n",
      "      <tr class=\"spacer\" style=\"height:5px\"></tr>\n",
      "                <tr class='athing submission' id='43978435'>\n",
      "      <td align=\"right\" valign=\"top\" class=\"title\"><span class=\"rank\">4.</span></td>      <td valign=\"top\" class=\"votelinks\"><center><a id='up_43978435' href='vote?id=43978435&amp;how=up&amp;goto=news'><div class='votearrow' title='upvote'></div></a></center></td><td class=\"title\"><span class=\"titleline\"><a href=\"https://corrode.dev/blog/flattening-rusts-learning-curve/\">Flattening Rust’s learning curve</a><span class=\"sitebit comhead\"> (<a href=\"from?site=corrode.dev\"><span class=\"sitestr\">corrode.dev</span></a>)</span></span></td></tr><tr><td colspan=\"2\"></td><td class=\"subtext\"><span class=\"subline\">\n",
      "          <span class=\"score\" id=\"score_43978435\">211 points</span> by <a href=\"user?id=birdculture\" class=\"hnuser\">birdculture</a> <span class=\"age\" title=\"2025-05-13T22:25:29 1747175129\"><a href=\"item?id=43978435\">9 hours ago</a></span> <span id=\"unv_43978435\"></span> | <a href=\"hide?id=43978435&amp;goto=news\">hide</a> | <a href=\"item?id=43978435\">154&nbsp;comments</a>        </span>\n",
      "              </td></tr>\n",
      "      <tr class=\"spacer\" style=\"height:5px\"></tr>\n",
      "                <tr class='athing submission' id='43980760'>\n",
      "      <td align=\"right\" valign=\"top\" class=\"title\"><span class=\"rank\">5.</span></td>      <td valign=\"top\" class=\"votelinks\"><center><a id='up_43980760' href='vote?id=43980760&amp;how=up&amp;goto=news'><div class='votearrow' title='upvote'></div></a></center></td><td class=\"title\"><span class=\"titleline\"><a href=\"https://bernsteinbear.com/blog/pl-writing/\">Writing that changed how I think about programming languages</a><span class=\"sitebit comhead\"> (<a href=\"from?site=bernsteinbear.com\"><span class=\"sitestr\">bernsteinbear.com</span></a>)</span></span></td></tr><tr><td colspan=\"2\"></td><td class=\"subtext\"><span class=\"subline\">\n",
      "          <span class=\"score\" id=\"score_43980760\">36 points</span> by <a href=\"user?id=r4um\" class=\"hnuser\">r4um</a> <span class=\"age\" title=\"2025-05-14T04:19:00 1747196340\"><a href=\"item?id=43980760\">3 hours ago</a></span> <span id=\"unv_43980760\"></span> | <a href=\"hide?id=43980760&amp;goto=news\">hide</a> | <a href=\"item?id=43980760\">4&nbsp;comments</a>        </span>\n",
      "              </td></tr>\n",
      "      <tr class=\"spacer\" style=\"height:5px\"></tr>\n",
      "                <tr class='athing submission' id='43945477'>\n",
      "      <td align=\"right\" valign=\"top\" class=\"title\"><span class=\"rank\">6.</span></td>      <td valign=\"top\" class=\"votelinks\"><center><a id='up_43945477' href='vote?id=43945477&amp;how=up&amp;goto=news'><div class='votearrow' title='upvote'></div></a></center></td><td class=\"title\"><span class=\"titleline\"><a href=\"https://ash-hq.org/\">Ash Framework – Model your domain, derive the rest</a><span class=\"sitebit comhead\"> (<a href=\"from?site=ash-hq.org\"><span class=\"sitestr\">ash-hq.org</span></a>)</span></span></td></tr><tr><td colspan=\"2\"></td><td class=\"subtext\"><span class=\"subline\">\n",
      "          <span class=\"score\" id=\"score_43945477\">18 points</span> by <a href=\"user?id=lawik\" class=\"hnuser\">lawik</a> <span class=\"age\" title=\"2025-05-10T13:32:00 1746883920\"><a href=\"item?id=43945477\">2 hours ago</a></span> <span id=\"unv_43945477\"></span> | <a href=\"hide?id=43945477&amp;goto=news\">hide</a> | <a href=\"item?id=43945477\">discuss</a>        </span>\n",
      "              </td></tr>\n",
      "      <tr class=\"spacer\" style=\"height:5px\"></tr>\n",
      "                <tr class='athing submission' id='43981668'>\n",
      "      <td align=\"right\" valign=\"top\" class=\"title\"><span class=\"rank\">7.</span></td>      <td><img src=\"s.gif\" height=\"1\" width=\"14\"></td>       <td class=\"title\"><span class=\"titleline\"><a href=\"https://www.raycast.com/jobs/ai-engineer\">Raycast (YC W20) Is Hiring AI Engineer (Remote, UTC ± 3h)</a><span class=\"sitebit comhead\"> (<a href=\"from?site=raycast.com\"><span class=\"sitestr\">raycast.com</span></a>)</span></span></td></tr><tr><td colspan=\"2\"></td><td class=\"subtext\">\n",
      "        <span class=\"age\" title=\"2025-05-14T07:01:03 1747206063\"><a href=\"item?id=43981668\">41 minutes ago</a></span> | <a href=\"hide?id=43981668&amp;goto=news\">hide</a>      </td></tr>\n",
      "      <tr class=\"spacer\" style=\"height:5px\"></tr>\n",
      "                <tr class='athing submission' id='43974891'>\n",
      "      <td align=\"right\" valign=\"top\" class=\"title\"><span class=\"rank\">8.</span></td>      <td valign=\"top\" class=\"votelinks\"><center><a id='up_43974891' href='vote?id=43974891&amp;how=up&amp;goto=news'><div class='votearrow' title='upvote'></div></a></center></td><td class=\"title\"><span class=\"titleline\"><a href=\"https://comsec.ethz.ch/research/microarch/branch-privilege-injection/\">Branch Privilege Injection: Exploiting branch predictor race conditions</a><span class=\"sitebit comhead\"> (<a href=\"from?site=ethz.ch\"><span class=\"sitestr\">ethz.ch</span></a>)</span></span></td></tr><tr><td colspan=\"2\"></td><td class=\"subtext\"><span class=\"subline\">\n",
      "          <span class=\"score\" id=\"score_43974891\">363 points</span> by <a href=\"user?id=alberto-m\" class=\"hnuser\">alberto-m</a> <span class=\"age\" title=\"2025-05-13T16:44:51 1747154691\"><a href=\"item?id=43974891\">14 hours ago</a></span> <span id=\"unv_43974891\"></span> | <a href=\"hide?id=43974891&amp;goto=news\">hide</a> | <a href=\"item?id=43974891\">142&nbsp;comments</a>        </span>\n",
      "              </td></tr>\n",
      "      <tr class=\"spacer\" style=\"height:5px\"></tr>\n",
      "                <tr class='athing submission' id='43979916'>\n",
      "      <td align=\"right\" valign=\"top\" class=\"title\"><span class=\"rank\">9.</span></td>      <td valign=\"top\" class=\"votelinks\"><center><a id='up_43979916' href='vote?id=43979916&amp;how=up&amp;goto=news'><div class='votearrow' title='upvote'></div></a></center></td><td class=\"title\"><span class=\"titleline\"><a href=\"https://store.steampowered.com/app/3401490/Replicube/\">Replicube: A puzzle game about writing code to create shapes</a><span class=\"sitebit comhead\"> (<a href=\"from?site=steampowered.com\"><span class=\"sitestr\">steampowered.com</span></a>)</span></span></td></tr><tr><td colspan=\"2\"></td><td class=\"subtext\"><span class=\"subline\">\n",
      "          <span class=\"score\" id=\"score_43979916\">46 points</span> by <a href=\"user?id=poetril\" class=\"hnuser\">poetril</a> <span class=\"age\" title=\"2025-05-14T01:55:59 1747187759\"><a href=\"item?id=43979916\">5 hours ago</a></span> <span id=\"unv_43979916\"></span> | <a href=\"hide?id=43979916&amp;goto=news\">hide</a> | <a href=\"item?id=43979916\">12&nbsp;comments</a>        </span>\n",
      "              </td></tr>\n",
      "      <tr class=\"spacer\" style=\"height:5px\"></tr>\n",
      "                <tr class='athing submission' id='43973395'>\n",
      "      <td align=\"right\" valign=\"top\" class=\"title\"><span class=\"rank\">10.</span></td>      <td valign=\"top\" class=\"votelinks\"><center><a id='up_43973395' href='vote?id=43973395&amp;how=up&amp;goto=news'><div class='votearrow' title='upvote'></div></a></center></td><td class=\"title\"><span class=\"titleline\"><a href=\"https://www.androidauthority.com/android-desktop-mode-leak-3550321/\">Google is building its own DeX: First look at Android&#x27;s Desktop Mode</a><span class=\"sitebit comhead\"> (<a href=\"from?site=androidauthority.com\"><span class=\"sitestr\">androidauthority.com</span></a>)</span></span></td></tr><tr><td colspan=\"2\"></td><td class=\"subtext\"><span class=\"subline\">\n",
      "          <span class=\"score\" id=\"score_43973395\">302 points</span> by <a href=\"user?id=logic_node\" class=\"hnuser\">logic_node</a> <span class=\"age\" title=\"2025-05-13T14:30:35 1747146635\"><a href=\"item?id=43973395\">17 hours ago</a></span> <span id=\"unv_43973395\"></span> | <a href=\"hide?id=43973395&amp;goto=news\">hide</a> | <a href=\"item?id=43973395\">230&nbsp;comments</a>        </span>\n",
      "              </td></tr>\n",
      "      <tr class=\"spacer\" style=\"height:5px\"></tr>\n",
      "                <tr class='athing submission' id='43975423'>\n",
      "      <td align=\"right\" valign=\"top\" class=\"title\"><span class=\"rank\">11.</span></td>      <td valign=\"top\" class=\"votelinks\"><center><a id='up_43975423' href='vote?id=43975423&amp;how=up&amp;goto=news'><div class='votearrow' title='upvote'></div></a></center></td><td class=\"title\"><span class=\"titleline\"><a href=\"https://github.com/HelixDB/helix-db/\">Show HN: HelixDB – Open-source vector-graph database for AI applications (Rust)</a><span class=\"sitebit comhead\"> (<a href=\"from?site=github.com/helixdb\"><span class=\"sitestr\">github.com/helixdb</span></a>)</span></span></td></tr><tr><td colspan=\"2\"></td><td class=\"subtext\"><span class=\"subline\">\n",
      "          <span class=\"score\" id=\"score_43975423\">161 points</span> by <a href=\"user?id=GeorgeCurtis\" class=\"hnuser\">GeorgeCurtis</a> <span class=\"age\" title=\"2025-05-13T17:26:38 1747157198\"><a href=\"item?id=43975423\">14 hours ago</a></span> <span id=\"unv_43975423\"></span> | <a href=\"hide?id=43975423&amp;goto=news\">hide</a> | <a href=\"item?id=43975423\">64&nbsp;comments</a>        </span>\n",
      "              </td></tr>\n",
      "      <tr class=\"spacer\" style=\"height:5px\"></tr>\n",
      "                <tr class='athing submission' id='43972425'>\n",
      "      <td align=\"right\" valign=\"top\" class=\"title\"><span class=\"rank\">12.</span></td>      <td valign=\"top\" class=\"votelinks\"><center><a id='up_43972425' href='vote?id=43972425&amp;how=up&amp;goto=news'><div class='votearrow' title='upvote'></div></a></center></td><td class=\"title\"><span class=\"titleline\"><a href=\"item?id=43972425\">Launch HN: Miyagi (YC W25) turns YouTube videos into online, interactive courses</a></span></td></tr><tr><td colspan=\"2\"></td><td class=\"subtext\"><span class=\"subline\">\n",
      "          <span class=\"score\" id=\"score_43972425\">175 points</span> by <a href=\"user?id=bestwillcui\" class=\"hnuser\">bestwillcui</a> <span class=\"age\" title=\"2025-05-13T12:56:42 1747141002\"><a href=\"item?id=43972425\">18 hours ago</a></span> <span id=\"unv_43972425\"></span> | <a href=\"hide?id=43972425&amp;goto=news\">hide</a> | <a href=\"item?id=43972425\">98&nbsp;comments</a>        </span>\n",
      "              </td></tr>\n",
      "      <tr class=\"spacer\" style=\"height:5px\"></tr>\n",
      "                <tr class='athing submission' id='43945628'>\n",
      "      <td align=\"right\" valign=\"top\" class=\"title\"><span class=\"rank\">13.</span></td>      <td valign=\"top\" class=\"votelinks\"><center><a id='up_43945628' href='vote?id=43945628&amp;how=up&amp;goto=news'><div class='votearrow' title='upvote'></div></a></center></td><td class=\"title\"><span class=\"titleline\"><a href=\"https://www.space.com/space-exploration/launches-spacecraft/failed-soviet-venus-lander-kosmos-482-crashes-to-earth-after-53-years-in-orbit\">Failed Soviet Venus lander Kosmos 482 crashes to Earth after 53 years in orbit</a><span class=\"sitebit comhead\"> (<a href=\"from?site=space.com\"><span class=\"sitestr\">space.com</span></a>)</span></span></td></tr><tr><td colspan=\"2\"></td><td class=\"subtext\"><span class=\"subline\">\n",
      "          <span class=\"score\" id=\"score_43945628\">137 points</span> by <a href=\"user?id=taubek\" class=\"hnuser\">taubek</a> <span class=\"age\" title=\"2025-05-10T13:51:53 1746885113\"><a href=\"item?id=43945628\">13 hours ago</a></span> <span id=\"unv_43945628\"></span> | <a href=\"hide?id=43945628&amp;goto=news\">hide</a> | <a href=\"item?id=43945628\">97&nbsp;comments</a>        </span>\n",
      "              </td></tr>\n",
      "      <tr class=\"spacer\" style=\"height:5px\"></tr>\n",
      "                <tr class='athing submission' id='43976895'>\n",
      "      <td align=\"right\" valign=\"top\" class=\"title\"><span class=\"rank\">14.</span></td>      <td valign=\"top\" class=\"votelinks\"><center><a id='up_43976895' href='vote?id=43976895&amp;how=up&amp;goto=news'><div class='votearrow' title='upvote'></div></a></center></td><td class=\"title\"><span class=\"titleline\"><a href=\"https://cocoindex.io/blogs/knowledge-graph-for-docs/\">Build real-time knowledge graph for documents with LLM</a><span class=\"sitebit comhead\"> (<a href=\"from?site=cocoindex.io\"><span class=\"sitestr\">cocoindex.io</span></a>)</span></span></td></tr><tr><td colspan=\"2\"></td><td class=\"subtext\"><span class=\"subline\">\n",
      "          <span class=\"score\" id=\"score_43976895\">125 points</span> by <a href=\"user?id=badmonster\" class=\"hnuser\">badmonster</a> <span class=\"age\" title=\"2025-05-13T19:48:04 1747165684\"><a href=\"item?id=43976895\">11 hours ago</a></span> <span id=\"unv_43976895\"></span> | <a href=\"hide?id=43976895&amp;goto=news\">hide</a> | <a href=\"item?id=43976895\">19&nbsp;comments</a>        </span>\n",
      "              </td></tr>\n",
      "      <tr class=\"spacer\" style=\"height:5px\"></tr>\n",
      "                <tr class='athing submission' id='43951604'>\n",
      "      <td align=\"right\" valign=\"top\" class=\"title\"><span class=\"rank\">15.</span></td>      <td valign=\"top\" class=\"votelinks\"><center><a id='up_43951604' href='vote?id=43951604&amp;how=up&amp;goto=news'><div class='votearrow' title='upvote'></div></a></center></td><td class=\"title\"><span class=\"titleline\"><a href=\"https://pema.dev/2025/05/09/mipmaps-too-much-detail/\">Mipmap selection in too much detail</a><span class=\"sitebit comhead\"> (<a href=\"from?site=pema.dev\"><span class=\"sitestr\">pema.dev</span></a>)</span></span></td></tr><tr><td colspan=\"2\"></td><td class=\"subtext\"><span class=\"subline\">\n",
      "          <span class=\"score\" id=\"score_43951604\">41 points</span> by <a href=\"user?id=luu\" class=\"hnuser\">luu</a> <span class=\"age\" title=\"2025-05-11T05:17:14 1746940634\"><a href=\"item?id=43951604\">5 hours ago</a></span> <span id=\"unv_43951604\"></span> | <a href=\"hide?id=43951604&amp;goto=news\">hide</a> | <a href=\"item?id=43951604\">9&nbsp;comments</a>        </span>\n",
      "              </td></tr>\n",
      "      <tr class=\"spacer\" style=\"height:5px\"></tr>\n",
      "                <tr class='athing submission' id='43945665'>\n",
      "      <td align=\"right\" valign=\"top\" class=\"title\"><span class=\"rank\">16.</span></td>      <td valign=\"top\" class=\"votelinks\"><center><a id='up_43945665' href='vote?id=43945665&amp;how=up&amp;goto=news'><div class='votearrow' title='upvote'></div></a></center></td><td class=\"title\"><span class=\"titleline\"><a href=\"https://github.com/mycweb/mycelium\">Show HN: Mycelium</a><span class=\"sitebit comhead\"> (<a href=\"from?site=github.com/mycweb\"><span class=\"sitestr\">github.com/mycweb</span></a>)</span></span></td></tr><tr><td colspan=\"2\"></td><td class=\"subtext\"><span class=\"subline\">\n",
      "          <span class=\"score\" id=\"score_43945665\">21 points</span> by <a href=\"user?id=brendoncarroll\" class=\"hnuser\">brendoncarroll</a> <span class=\"age\" title=\"2025-05-10T13:56:36 1746885396\"><a href=\"item?id=43945665\">3 hours ago</a></span> <span id=\"unv_43945665\"></span> | <a href=\"hide?id=43945665&amp;goto=news\">hide</a> | <a href=\"item?id=43945665\">4&nbsp;comments</a>        </span>\n",
      "              </td></tr>\n",
      "      <tr class=\"spacer\" style=\"height:5px\"></tr>\n",
      "                <tr class='athing submission' id='43943928'>\n",
      "      <td align=\"right\" valign=\"top\" class=\"title\"><span class=\"rank\">17.</span></td>      <td valign=\"top\" class=\"votelinks\"><center><a id='up_43943928' href='vote?id=43943928&amp;how=up&amp;goto=news'><div class='votearrow' title='upvote'></div></a></center></td><td class=\"title\"><span class=\"titleline\"><a href=\"https://github.com/em-llm/EM-LLM-model\">EM-LLM: Human-Inspired Episodic Memory for Infinite Context LLMs</a><span class=\"sitebit comhead\"> (<a href=\"from?site=github.com/em-llm\"><span class=\"sitestr\">github.com/em-llm</span></a>)</span></span></td></tr><tr><td colspan=\"2\"></td><td class=\"subtext\"><span class=\"subline\">\n",
      "          <span class=\"score\" id=\"score_43943928\">48 points</span> by <a href=\"user?id=jbotz\" class=\"hnuser\">jbotz</a> <span class=\"age\" title=\"2025-05-10T07:49:18 1746863358\"><a href=\"item?id=43943928\">8 hours ago</a></span> <span id=\"unv_43943928\"></span> | <a href=\"hide?id=43943928&amp;goto=news\">hide</a> | <a href=\"item?id=43943928\">5&nbsp;comments</a>        </span>\n",
      "              </td></tr>\n",
      "      <tr class=\"spacer\" style=\"height:5px\"></tr>\n",
      "                <tr class='athing submission' id='43973721'>\n",
      "      <td align=\"right\" valign=\"top\" class=\"title\"><span class=\"rank\">18.</span></td>      <td valign=\"top\" class=\"votelinks\"><center><a id='up_43973721' href='vote?id=43973721&amp;how=up&amp;goto=news'><div class='votearrow' title='upvote'></div></a></center></td><td class=\"title\"><span class=\"titleline\"><a href=\"https://www.marginalia.nu/log/a_119_pdf/\">PDF to Text, a challenging problem</a><span class=\"sitebit comhead\"> (<a href=\"from?site=marginalia.nu\"><span class=\"sitestr\">marginalia.nu</span></a>)</span></span></td></tr><tr><td colspan=\"2\"></td><td class=\"subtext\"><span class=\"subline\">\n",
      "          <span class=\"score\" id=\"score_43973721\">278 points</span> by <a href=\"user?id=ingve\" class=\"hnuser\">ingve</a> <span class=\"age\" title=\"2025-05-13T15:01:09 1747148469\"><a href=\"item?id=43973721\">16 hours ago</a></span> <span id=\"unv_43973721\"></span> | <a href=\"hide?id=43973721&amp;goto=news\">hide</a> | <a href=\"item?id=43973721\">154&nbsp;comments</a>        </span>\n",
      "              </td></tr>\n",
      "      <tr class=\"spacer\" style=\"height:5px\"></tr>\n",
      "                <tr class='athing submission' id='43971716'>\n",
      "      <td align=\"right\" valign=\"top\" class=\"title\"><span class=\"rank\">19.</span></td>      <td valign=\"top\" class=\"votelinks\"><center><a id='up_43971716' href='vote?id=43971716&amp;how=up&amp;goto=news'><div class='votearrow' title='upvote'></div></a></center></td><td class=\"title\"><span class=\"titleline\"><a href=\"https://www.openwall.com/lists/oss-security/2025/05/12/1\">Multiple security issues in GNU Screen</a><span class=\"sitebit comhead\"> (<a href=\"from?site=openwall.com\"><span class=\"sitestr\">openwall.com</span></a>)</span></span></td></tr><tr><td colspan=\"2\"></td><td class=\"subtext\"><span class=\"subline\">\n",
      "          <span class=\"score\" id=\"score_43971716\">369 points</span> by <a href=\"user?id=st_goliath\" class=\"hnuser\">st_goliath</a> <span class=\"age\" title=\"2025-05-13T11:28:49 1747135729\"><a href=\"item?id=43971716\">20 hours ago</a></span> <span id=\"unv_43971716\"></span> | <a href=\"hide?id=43971716&amp;goto=news\">hide</a> | <a href=\"item?id=43971716\">220&nbsp;comments</a>        </span>\n",
      "              </td></tr>\n",
      "      <tr class=\"spacer\" style=\"height:5px\"></tr>\n",
      "                <tr class='athing submission' id='43976557'>\n",
      "      <td align=\"right\" valign=\"top\" class=\"title\"><span class=\"rank\">20.</span></td>      <td valign=\"top\" class=\"votelinks\"><center><a id='up_43976557' href='vote?id=43976557&amp;how=up&amp;goto=news'><div class='votearrow' title='upvote'></div></a></center></td><td class=\"title\"><span class=\"titleline\"><a href=\"https://www.wired.com/story/airbnb-is-in-midlife-crisis-mode-reinvention-app-services/\">Airbnb is in midlife crisis mode</a><span class=\"sitebit comhead\"> (<a href=\"from?site=wired.com\"><span class=\"sitestr\">wired.com</span></a>)</span></span></td></tr><tr><td colspan=\"2\"></td><td class=\"subtext\"><span class=\"subline\">\n",
      "          <span class=\"score\" id=\"score_43976557\">137 points</span> by <a href=\"user?id=thomasjudge\" class=\"hnuser\">thomasjudge</a> <span class=\"age\" title=\"2025-05-13T19:17:54 1747163874\"><a href=\"item?id=43976557\">8 hours ago</a></span> <span id=\"unv_43976557\"></span> | <a href=\"hide?id=43976557&amp;goto=news\">hide</a> | <a href=\"item?id=43976557\">236&nbsp;comments</a>        </span>\n",
      "              </td></tr>\n",
      "      <tr class=\"spacer\" style=\"height:5px\"></tr>\n",
      "                <tr class='athing submission' id='43979063'>\n",
      "      <td align=\"right\" valign=\"top\" class=\"title\"><span class=\"rank\">21.</span></td>      <td valign=\"top\" class=\"votelinks\"><center><a id='up_43979063' href='vote?id=43979063&amp;how=up&amp;goto=news'><div class='votearrow' title='upvote'></div></a></center></td><td class=\"title\"><span class=\"titleline\"><a href=\"https://www.binghamton.edu/news/story/5547/do-your-fingers-wrinkle-the-same-way-every-time-youre-in-the-water-too-long-new-research-says-yes\">Fingers wrinkle the same way every time they’re in the water too long</a><span class=\"sitebit comhead\"> (<a href=\"from?site=binghamton.edu\"><span class=\"sitestr\">binghamton.edu</span></a>)</span></span></td></tr><tr><td colspan=\"2\"></td><td class=\"subtext\"><span class=\"subline\">\n",
      "          <span class=\"score\" id=\"score_43979063\">117 points</span> by <a href=\"user?id=gnabgib\" class=\"hnuser\">gnabgib</a> <span class=\"age\" title=\"2025-05-13T23:34:07 1747179247\"><a href=\"item?id=43979063\">8 hours ago</a></span> <span id=\"unv_43979063\"></span> | <a href=\"hide?id=43979063&amp;goto=news\">hide</a> | <a href=\"item?id=43979063\">46&nbsp;comments</a>        </span>\n",
      "              </td></tr>\n",
      "      <tr class=\"spacer\" style=\"height:5px\"></tr>\n",
      "                <tr class='athing submission' id='43974005'>\n",
      "      <td align=\"right\" valign=\"top\" class=\"title\"><span class=\"rank\">22.</span></td>      <td valign=\"top\" class=\"votelinks\"><center><a id='up_43974005' href='vote?id=43974005&amp;how=up&amp;goto=news'><div class='votearrow' title='upvote'></div></a></center></td><td class=\"title\"><span class=\"titleline\"><a href=\"https://www.rifters.com/crawl/?p=11511\">It Awaits Your Experiments</a><span class=\"sitebit comhead\"> (<a href=\"from?site=rifters.com\"><span class=\"sitestr\">rifters.com</span></a>)</span></span></td></tr><tr><td colspan=\"2\"></td><td class=\"subtext\"><span class=\"subline\">\n",
      "          <span class=\"score\" id=\"score_43974005\">160 points</span> by <a href=\"user?id=pavel_lishin\" class=\"hnuser\">pavel_lishin</a> <span class=\"age\" title=\"2025-05-13T15:27:47 1747150067\"><a href=\"item?id=43974005\">15 hours ago</a></span> <span id=\"unv_43974005\"></span> | <a href=\"hide?id=43974005&amp;goto=news\">hide</a> | <a href=\"item?id=43974005\">58&nbsp;comments</a>        </span>\n",
      "              </td></tr>\n",
      "      <tr class=\"spacer\" style=\"height:5px\"></tr>\n",
      "                <tr class='athing submission' id='43945423'>\n",
      "      <td align=\"right\" valign=\"top\" class=\"title\"><span class=\"rank\">23.</span></td>      <td valign=\"top\" class=\"votelinks\"><center><a id='up_43945423' href='vote?id=43945423&amp;how=up&amp;goto=news'><div class='votearrow' title='upvote'></div></a></center></td><td class=\"title\"><span class=\"titleline\"><a href=\"https://www.warpstream.com/blog/taking-out-the-trash-garbage-collection-of-object-storage-at-massive-scale\">Garbage collection of object storage at scale</a><span class=\"sitebit comhead\"> (<a href=\"from?site=warpstream.com\"><span class=\"sitestr\">warpstream.com</span></a>)</span></span></td></tr><tr><td colspan=\"2\"></td><td class=\"subtext\"><span class=\"subline\">\n",
      "          <span class=\"score\" id=\"score_43945423\">73 points</span> by <a href=\"user?id=ko_pivot\" class=\"hnuser\">ko_pivot</a> <span class=\"age\" title=\"2025-05-10T13:23:35 1746883415\"><a href=\"item?id=43945423\">11 hours ago</a></span> <span id=\"unv_43945423\"></span> | <a href=\"hide?id=43945423&amp;goto=news\">hide</a> | <a href=\"item?id=43945423\">9&nbsp;comments</a>        </span>\n",
      "              </td></tr>\n",
      "      <tr class=\"spacer\" style=\"height:5px\"></tr>\n",
      "                <tr class='athing submission' id='43971464'>\n",
      "      <td align=\"right\" valign=\"top\" class=\"title\"><span class=\"rank\">24.</span></td>      <td valign=\"top\" class=\"votelinks\"><center><a id='up_43971464' href='vote?id=43971464&amp;how=up&amp;goto=news'><div class='votearrow' title='upvote'></div></a></center></td><td class=\"title\"><span class=\"titleline\"><a href=\"https://twitter.com/ID_AA_Carmack/status/1922100771392520710\">The world could run on older hardware if software optimization was a priority</a><span class=\"sitebit comhead\"> (<a href=\"from?site=twitter.com/id_aa_carmack\"><span class=\"sitestr\">twitter.com/id_aa_carmack</span></a>)</span></span></td></tr><tr><td colspan=\"2\"></td><td class=\"subtext\"><span class=\"subline\">\n",
      "          <span class=\"score\" id=\"score_43971464\">670 points</span> by <a href=\"user?id=turrini\" class=\"hnuser\">turrini</a> <span class=\"age\" title=\"2025-05-13T10:31:09 1747132269\"><a href=\"item?id=43971464\">21 hours ago</a></span> <span id=\"unv_43971464\"></span> | <a href=\"hide?id=43971464&amp;goto=news\">hide</a> | <a href=\"item?id=43971464\">615&nbsp;comments</a>        </span>\n",
      "              </td></tr>\n",
      "      <tr class=\"spacer\" style=\"height:5px\"></tr>\n",
      "                <tr class='athing submission' id='43977147'>\n",
      "      <td align=\"right\" valign=\"top\" class=\"title\"><span class=\"rank\">25.</span></td>      <td valign=\"top\" class=\"votelinks\"><center><a id='up_43977147' href='vote?id=43977147&amp;how=up&amp;goto=news'><div class='votearrow' title='upvote'></div></a></center></td><td class=\"title\"><span class=\"titleline\"><a href=\"https://reasonablypolymorphic.com/blog/solving-lcsa/\">Using obscure graph theory to solve programming languages problems</a><span class=\"sitebit comhead\"> (<a href=\"from?site=reasonablypolymorphic.com\"><span class=\"sitestr\">reasonablypolymorphic.com</span></a>)</span></span></td></tr><tr><td colspan=\"2\"></td><td class=\"subtext\"><span class=\"subline\">\n",
      "          <span class=\"score\" id=\"score_43977147\">55 points</span> by <a href=\"user?id=matt_d\" class=\"hnuser\">matt_d</a> <span class=\"age\" title=\"2025-05-13T20:09:54 1747166994\"><a href=\"item?id=43977147\">11 hours ago</a></span> <span id=\"unv_43977147\"></span> | <a href=\"hide?id=43977147&amp;goto=news\">hide</a> | <a href=\"item?id=43977147\">8&nbsp;comments</a>        </span>\n",
      "              </td></tr>\n",
      "      <tr class=\"spacer\" style=\"height:5px\"></tr>\n",
      "                <tr class='athing submission' id='43944640'>\n",
      "      <td align=\"right\" valign=\"top\" class=\"title\"><span class=\"rank\">26.</span></td>      <td valign=\"top\" class=\"votelinks\"><center><a id='up_43944640' href='vote?id=43944640&amp;how=up&amp;goto=news'><div class='votearrow' title='upvote'></div></a></center></td><td class=\"title\"><span class=\"titleline\"><a href=\"https://terrytao.wordpress.com/2025/05/09/a-tool-to-verify-estimates-ii-a-flexible-proof-assistant/\">A tool to verify estimates, II: a flexible proof assistant</a><span class=\"sitebit comhead\"> (<a href=\"from?site=terrytao.wordpress.com\"><span class=\"sitestr\">terrytao.wordpress.com</span></a>)</span></span></td></tr><tr><td colspan=\"2\"></td><td class=\"subtext\"><span class=\"subline\">\n",
      "          <span class=\"score\" id=\"score_43944640\">42 points</span> by <a href=\"user?id=jjgreen\" class=\"hnuser\">jjgreen</a> <span class=\"age\" title=\"2025-05-10T10:41:21 1746873681\"><a href=\"item?id=43944640\">9 hours ago</a></span> <span id=\"unv_43944640\"></span> | <a href=\"hide?id=43944640&amp;goto=news\">hide</a> | <a href=\"item?id=43944640\">discuss</a>        </span>\n",
      "              </td></tr>\n",
      "      <tr class=\"spacer\" style=\"height:5px\"></tr>\n",
      "                <tr class='athing submission' id='43951885'>\n",
      "      <td align=\"right\" valign=\"top\" class=\"title\"><span class=\"rank\">27.</span></td>      <td valign=\"top\" class=\"votelinks\"><center><a id='up_43951885' href='vote?id=43951885&amp;how=up&amp;goto=news'><div class='votearrow' title='upvote'></div></a></center></td><td class=\"title\"><span class=\"titleline\"><a href=\"https://ratfactor.com/snobol/\">I learned Snobol and then wrote a toy Forth</a><span class=\"sitebit comhead\"> (<a href=\"from?site=ratfactor.com\"><span class=\"sitestr\">ratfactor.com</span></a>)</span></span></td></tr><tr><td colspan=\"2\"></td><td class=\"subtext\"><span class=\"subline\">\n",
      "          <span class=\"score\" id=\"score_43951885\">128 points</span> by <a href=\"user?id=ingve\" class=\"hnuser\">ingve</a> <span class=\"age\" title=\"2025-05-11T06:38:27 1746945507\"><a href=\"item?id=43951885\">20 hours ago</a></span> <span id=\"unv_43951885\"></span> | <a href=\"hide?id=43951885&amp;goto=news\">hide</a> | <a href=\"item?id=43951885\">33&nbsp;comments</a>        </span>\n",
      "              </td></tr>\n",
      "      <tr class=\"spacer\" style=\"height:5px\"></tr>\n",
      "                <tr class='athing submission' id='43955277'>\n",
      "      <td align=\"right\" valign=\"top\" class=\"title\"><span class=\"rank\">28.</span></td>      <td valign=\"top\" class=\"votelinks\"><center><a id='up_43955277' href='vote?id=43955277&amp;how=up&amp;goto=news'><div class='votearrow' title='upvote'></div></a></center></td><td class=\"title\"><span class=\"titleline\"><a href=\"https://museumofeverydaylife.org/current-exhibitions/a-visual-history-of-the-safety-pin\">A visual history of the safety pin</a><span class=\"sitebit comhead\"> (<a href=\"from?site=museumofeverydaylife.org\"><span class=\"sitestr\">museumofeverydaylife.org</span></a>)</span></span></td></tr><tr><td colspan=\"2\"></td><td class=\"subtext\"><span class=\"subline\">\n",
      "          <span class=\"score\" id=\"score_43955277\">24 points</span> by <a href=\"user?id=andsoitis\" class=\"hnuser\">andsoitis</a> <span class=\"age\" title=\"2025-05-11T17:22:45 1746984165\"><a href=\"item?id=43955277\">7 hours ago</a></span> <span id=\"unv_43955277\"></span> | <a href=\"hide?id=43955277&amp;goto=news\">hide</a> | <a href=\"item?id=43955277\">3&nbsp;comments</a>        </span>\n",
      "              </td></tr>\n",
      "      <tr class=\"spacer\" style=\"height:5px\"></tr>\n",
      "                <tr class='athing submission' id='43975782'>\n",
      "      <td align=\"right\" valign=\"top\" class=\"title\"><span class=\"rank\">29.</span></td>      <td valign=\"top\" class=\"votelinks\"><center><a id='up_43975782' href='vote?id=43975782&amp;how=up&amp;goto=news'><div class='votearrow' title='upvote'></div></a></center></td><td class=\"title\"><span class=\"titleline\"><a href=\"https://opentelemetry.io/blog/2025/otel-arrow-phase-2/\">OpenTelemetry protocol with Apache Arrow</a><span class=\"sitebit comhead\"> (<a href=\"from?site=opentelemetry.io\"><span class=\"sitestr\">opentelemetry.io</span></a>)</span></span></td></tr><tr><td colspan=\"2\"></td><td class=\"subtext\"><span class=\"subline\">\n",
      "          <span class=\"score\" id=\"score_43975782\">87 points</span> by <a href=\"user?id=tanelpoder\" class=\"hnuser\">tanelpoder</a> <span class=\"age\" title=\"2025-05-13T17:57:57 1747159077\"><a href=\"item?id=43975782\">13 hours ago</a></span> <span id=\"unv_43975782\"></span> | <a href=\"hide?id=43975782&amp;goto=news\">hide</a> | <a href=\"item?id=43975782\">16&nbsp;comments</a>        </span>\n",
      "              </td></tr>\n",
      "      <tr class=\"spacer\" style=\"height:5px\"></tr>\n",
      "                <tr class='athing submission' id='43963434'>\n",
      "      <td align=\"right\" valign=\"top\" class=\"title\"><span class=\"rank\">30.</span></td>      <td valign=\"top\" class=\"votelinks\"><center><a id='up_43963434' href='vote?id=43963434&amp;how=up&amp;goto=news'><div class='votearrow' title='upvote'></div></a></center></td><td class=\"title\"><span class=\"titleline\"><a href=\"https://shawnfromportland.substack.com/p/the-great-displacement-is-already\">The great displacement is already well underway?</a><span class=\"sitebit comhead\"> (<a href=\"from?site=shawnfromportland.substack.com\"><span class=\"sitestr\">shawnfromportland.substack.com</span></a>)</span></span></td></tr><tr><td colspan=\"2\"></td><td class=\"subtext\"><span class=\"subline\">\n",
      "          <span class=\"score\" id=\"score_43963434\">325 points</span> by <a href=\"user?id=JSLegendDev\" class=\"hnuser\">JSLegendDev</a> <span class=\"age\" title=\"2025-05-12T14:32:25 1747060345\"><a href=\"item?id=43963434\">1 day ago</a></span> <span id=\"unv_43963434\"></span> | <a href=\"hide?id=43963434&amp;goto=news\">hide</a> | <a href=\"item?id=43963434\">337&nbsp;comments</a>        </span>\n",
      "              </td></tr>\n",
      "      <tr class=\"spacer\" style=\"height:5px\"></tr>\n",
      "            <tr class=\"morespace\" style=\"height:10px\"></tr><tr><td colspan=\"2\"></td>\n",
      "      <td class='title'><a href='?p=2' class='morelink' rel='next'>More</a></td>    </tr>\n",
      "  </table>\n",
      "</td></tr>\n",
      "<tr><td><img src=\"s.gif\" height=\"10\" width=\"0\"><table width=\"100%\" cellspacing=\"0\" cellpadding=\"1\"><tr><td bgcolor=\"#ff6600\"></td></tr></table><br>\n",
      "<center><span class=\"yclinks\"><a href=\"newsguidelines.html\">Guidelines</a> | <a href=\"newsfaq.html\">FAQ</a> | <a href=\"lists\">Lists</a> | <a href=\"https://github.com/HackerNews/API\">API</a> | <a href=\"security.html\">Security</a> | <a href=\"https://www.ycombinator.com/legal/\">Legal</a> | <a href=\"https://www.ycombinator.com/apply/\">Apply to YC</a> | <a href=\"mailto:hn@ycombinator.com\">Contact</a></span><br><br>\n",
      "<form method=\"get\" action=\"//hn.algolia.com/\">Search: <input type=\"text\" name=\"q\" size=\"17\" autocorrect=\"off\" spellcheck=\"false\" autocapitalize=\"off\" autocomplete=\"off\"></form></center></td></tr>      </table></center></body>\n",
      "      <script type='text/javascript' src='hn.js?WypGGSGdo3YHPcP8U8jK'></script>\n",
      "  </html>\n",
      "\n"
     ]
    }
   ],
   "source": [
    "import requests\n",
    "\n",
    "r = requests.get(\"https://news.ycombinator.com\")\n",
    "print(r.text)"
   ]
  },
  {
   "cell_type": "code",
   "execution_count": 8,
   "metadata": {},
   "outputs": [
    {
     "name": "stdout",
     "output_type": "stream",
     "text": [
      "\n",
      "        \n",
      "                  \n",
      "        Hacker News\n",
      "        \n",
      "                  Hacker News\n",
      "                            new | past | comments | ask | show | jobs | submit            \n",
      "                              login\n",
      "                          \n",
      "              \n",
      "\n",
      "            \n",
      "      1.      Bus stops here: Shanghai lets riders design their own routes (sixthtone.com)\n",
      "          172 points by anigbrowl 3 hours ago  | hide | 101&nbsp;comments        \n",
      "              \n",
      "      \n",
      "                \n",
      "      2.      RPG in a Box (rpginabox.com)\n",
      "          108 points by skibz 4 hours ago  | hide | 12&nbsp;comments        \n",
      "              \n",
      "      \n",
      "                \n",
      "      3.      Type-constrained code generation with language models (arxiv.org)\n",
      "          187 points by tough 8 hours ago  | hide | 65&nbsp;comments        \n",
      "              \n",
      "      \n",
      "                \n",
      "      4.      Flattening Rust’s learning curve (corrode.dev)\n",
      "          211 points by birdculture 9 hours ago  | hide | 154&nbsp;comments        \n",
      "              \n",
      "      \n",
      "                \n",
      "      5.      Writing that changed how I think about programming languages (bernsteinbear.com)\n",
      "          36 points by r4um 3 hours ago  | hide | 4&nbsp;comments        \n",
      "              \n",
      "      \n",
      "                \n",
      "      6.      Ash Framework – Model your domain, derive the rest (ash-hq.org)\n",
      "          18 points by lawik 2 hours ago  | hide | discuss        \n",
      "              \n",
      "      \n",
      "                \n",
      "      7.             Raycast (YC W20) Is Hiring AI Engineer (Remote, UTC ± 3h) (raycast.com)\n",
      "        41 minutes ago | hide      \n",
      "      \n",
      "                \n",
      "      8.      Branch Privilege Injection: Exploiting branch predictor race conditions (ethz.ch)\n",
      "          363 points by alberto-m 14 hours ago  | hide | 142&nbsp;comments        \n",
      "              \n",
      "      \n",
      "                \n",
      "      9.      Replicube: A puzzle game about writing code to create shapes (steampowered.com)\n",
      "          46 points by poetril 5 hours ago  | hide | 12&nbsp;comments        \n",
      "              \n",
      "      \n",
      "                \n",
      "      10.      Google is building its own DeX: First look at Android&#x27;s Desktop Mode (androidauthority.com)\n",
      "          302 points by logic_node 17 hours ago  | hide | 230&nbsp;comments        \n",
      "              \n",
      "      \n",
      "                \n",
      "      11.      Show HN: HelixDB – Open-source vector-graph database for AI applications (Rust) (github.com/helixdb)\n",
      "          161 points by GeorgeCurtis 14 hours ago  | hide | 64&nbsp;comments        \n",
      "              \n",
      "      \n",
      "                \n",
      "      12.      Launch HN: Miyagi (YC W25) turns YouTube videos into online, interactive courses\n",
      "          175 points by bestwillcui 18 hours ago  | hide | 98&nbsp;comments        \n",
      "              \n",
      "      \n",
      "                \n",
      "      13.      Failed Soviet Venus lander Kosmos 482 crashes to Earth after 53 years in orbit (space.com)\n",
      "          137 points by taubek 13 hours ago  | hide | 97&nbsp;comments        \n",
      "              \n",
      "      \n",
      "                \n",
      "      14.      Build real-time knowledge graph for documents with LLM (cocoindex.io)\n",
      "          125 points by badmonster 11 hours ago  | hide | 19&nbsp;comments        \n",
      "              \n",
      "      \n",
      "                \n",
      "      15.      Mipmap selection in too much detail (pema.dev)\n",
      "          41 points by luu 5 hours ago  | hide | 9&nbsp;comments        \n",
      "              \n",
      "      \n",
      "                \n",
      "      16.      Show HN: Mycelium (github.com/mycweb)\n",
      "          21 points by brendoncarroll 3 hours ago  | hide | 4&nbsp;comments        \n",
      "              \n",
      "      \n",
      "                \n",
      "      17.      EM-LLM: Human-Inspired Episodic Memory for Infinite Context LLMs (github.com/em-llm)\n",
      "          48 points by jbotz 8 hours ago  | hide | 5&nbsp;comments        \n",
      "              \n",
      "      \n",
      "                \n",
      "      18.      PDF to Text, a challenging problem (marginalia.nu)\n",
      "          278 points by ingve 16 hours ago  | hide | 154&nbsp;comments        \n",
      "              \n",
      "      \n",
      "                \n",
      "      19.      Multiple security issues in GNU Screen (openwall.com)\n",
      "          369 points by st_goliath 20 hours ago  | hide | 220&nbsp;comments        \n",
      "              \n",
      "      \n",
      "                \n",
      "      20.      Airbnb is in midlife crisis mode (wired.com)\n",
      "          137 points by thomasjudge 8 hours ago  | hide | 236&nbsp;comments        \n",
      "              \n",
      "      \n",
      "                \n",
      "      21.      Fingers wrinkle the same way every time they’re in the water too long (binghamton.edu)\n",
      "          117 points by gnabgib 8 hours ago  | hide | 46&nbsp;comments        \n",
      "              \n",
      "      \n",
      "                \n",
      "      22.      It Awaits Your Experiments (rifters.com)\n",
      "          160 points by pavel_lishin 15 hours ago  | hide | 58&nbsp;comments        \n",
      "              \n",
      "      \n",
      "                \n",
      "      23.      Garbage collection of object storage at scale (warpstream.com)\n",
      "          73 points by ko_pivot 11 hours ago  | hide | 9&nbsp;comments        \n",
      "              \n",
      "      \n",
      "                \n",
      "      24.      The world could run on older hardware if software optimization was a priority (twitter.com/id_aa_carmack)\n",
      "          670 points by turrini 21 hours ago  | hide | 615&nbsp;comments        \n",
      "              \n",
      "      \n",
      "                \n",
      "      25.      Using obscure graph theory to solve programming languages problems (reasonablypolymorphic.com)\n",
      "          55 points by matt_d 11 hours ago  | hide | 8&nbsp;comments        \n",
      "              \n",
      "      \n",
      "                \n",
      "      26.      A tool to verify estimates, II: a flexible proof assistant (terrytao.wordpress.com)\n",
      "          42 points by jjgreen 9 hours ago  | hide | discuss        \n",
      "              \n",
      "      \n",
      "                \n",
      "      27.      I learned Snobol and then wrote a toy Forth (ratfactor.com)\n",
      "          128 points by ingve 20 hours ago  | hide | 33&nbsp;comments        \n",
      "              \n",
      "      \n",
      "                \n",
      "      28.      A visual history of the safety pin (museumofeverydaylife.org)\n",
      "          24 points by andsoitis 7 hours ago  | hide | 3&nbsp;comments        \n",
      "              \n",
      "      \n",
      "                \n",
      "      29.      OpenTelemetry protocol with Apache Arrow (opentelemetry.io)\n",
      "          87 points by tanelpoder 13 hours ago  | hide | 16&nbsp;comments        \n",
      "              \n",
      "      \n",
      "                \n",
      "      30.      The great displacement is already well underway? (shawnfromportland.substack.com)\n",
      "          325 points by JSLegendDev 1 day ago  | hide | 337&nbsp;comments        \n",
      "              \n",
      "      \n",
      "            \n",
      "      More    \n",
      "  \n",
      "\n",
      "\n",
      "Guidelines | FAQ | Lists | API | Security | Legal | Apply to YC | Contact\n",
      "Search:       \n",
      "      \n",
      "  \n",
      "\n"
     ]
    }
   ],
   "source": [
    "import re\n",
    "\n",
    "#Remove HTML tags using RegEx\n",
    "pattern = re.compile(r'<.*?>')\n",
    "print(pattern.sub('',r.text))"
   ]
  },
  {
   "cell_type": "code",
   "execution_count": 11,
   "metadata": {},
   "outputs": [
    {
     "name": "stdout",
     "output_type": "stream",
     "text": [
      "\n",
      "\n",
      "\n",
      "Hacker News\n",
      "\n",
      "Hacker News\n",
      "new | past | comments | ask | show | jobs | submit \n",
      "login\n",
      "\n",
      "\n",
      "\n",
      "\n",
      "1. Bus stops here: Shanghai lets riders design their own routes (sixthtone.com)\n",
      "172 points by anigbrowl 3 hours ago  | hide | 101 comments \n",
      "\n",
      "\n",
      "\n",
      "2. RPG in a Box (rpginabox.com)\n",
      "108 points by skibz 4 hours ago  | hide | 12 comments \n",
      "\n",
      "\n",
      "\n",
      "3. Type-constrained code generation with language models (arxiv.org)\n",
      "187 points by tough 8 hours ago  | hide | 65 comments \n",
      "\n",
      "\n",
      "\n",
      "4. Flattening Rust’s learning curve (corrode.dev)\n",
      "211 points by birdculture 9 hours ago  | hide | 154 comments \n",
      "\n",
      "\n",
      "\n",
      "5. Writing that changed how I think about programming languages (bernsteinbear.com)\n",
      "36 points by r4um 3 hours ago  | hide | 4 comments \n",
      "\n",
      "\n",
      "\n",
      "6. Ash Framework – Model your domain, derive the rest (ash-hq.org)\n",
      "18 points by lawik 2 hours ago  | hide | discuss \n",
      "\n",
      "\n",
      "\n",
      "7.  Raycast (YC W20) Is Hiring AI Engineer (Remote, UTC ± 3h) (raycast.com)\n",
      "41 minutes ago | hide \n",
      "\n",
      "\n",
      "8. Branch Privilege Injection: Exploiting branch predictor race conditions (ethz.ch)\n",
      "363 points by alberto-m 14 hours ago  | hide | 142 comments \n",
      "\n",
      "\n",
      "\n",
      "9. Replicube: A puzzle game about writing code to create shapes (steampowered.com)\n",
      "46 points by poetril 5 hours ago  | hide | 12 comments \n",
      "\n",
      "\n",
      "\n",
      "10. Google is building its own DeX: First look at Android's Desktop Mode (androidauthority.com)\n",
      "302 points by logic_node 17 hours ago  | hide | 230 comments \n",
      "\n",
      "\n",
      "\n",
      "11. Show HN: HelixDB – Open-source vector-graph database for AI applications (Rust) (github.com/helixdb)\n",
      "161 points by GeorgeCurtis 14 hours ago  | hide | 64 comments \n",
      "\n",
      "\n",
      "\n",
      "12. Launch HN: Miyagi (YC W25) turns YouTube videos into online, interactive courses\n",
      "175 points by bestwillcui 18 hours ago  | hide | 98 comments \n",
      "\n",
      "\n",
      "\n",
      "13. Failed Soviet Venus lander Kosmos 482 crashes to Earth after 53 years in orbit (space.com)\n",
      "137 points by taubek 13 hours ago  | hide | 97 comments \n",
      "\n",
      "\n",
      "\n",
      "14. Build real-time knowledge graph for documents with LLM (cocoindex.io)\n",
      "125 points by badmonster 11 hours ago  | hide | 19 comments \n",
      "\n",
      "\n",
      "\n",
      "15. Mipmap selection in too much detail (pema.dev)\n",
      "41 points by luu 5 hours ago  | hide | 9 comments \n",
      "\n",
      "\n",
      "\n",
      "16. Show HN: Mycelium (github.com/mycweb)\n",
      "21 points by brendoncarroll 3 hours ago  | hide | 4 comments \n",
      "\n",
      "\n",
      "\n",
      "17. EM-LLM: Human-Inspired Episodic Memory for Infinite Context LLMs (github.com/em-llm)\n",
      "48 points by jbotz 8 hours ago  | hide | 5 comments \n",
      "\n",
      "\n",
      "\n",
      "18. PDF to Text, a challenging problem (marginalia.nu)\n",
      "278 points by ingve 16 hours ago  | hide | 154 comments \n",
      "\n",
      "\n",
      "\n",
      "19. Multiple security issues in GNU Screen (openwall.com)\n",
      "369 points by st_goliath 20 hours ago  | hide | 220 comments \n",
      "\n",
      "\n",
      "\n",
      "20. Airbnb is in midlife crisis mode (wired.com)\n",
      "137 points by thomasjudge 8 hours ago  | hide | 236 comments \n",
      "\n",
      "\n",
      "\n",
      "21. Fingers wrinkle the same way every time they’re in the water too long (binghamton.edu)\n",
      "117 points by gnabgib 8 hours ago  | hide | 46 comments \n",
      "\n",
      "\n",
      "\n",
      "22. It Awaits Your Experiments (rifters.com)\n",
      "160 points by pavel_lishin 15 hours ago  | hide | 58 comments \n",
      "\n",
      "\n",
      "\n",
      "23. Garbage collection of object storage at scale (warpstream.com)\n",
      "73 points by ko_pivot 11 hours ago  | hide | 9 comments \n",
      "\n",
      "\n",
      "\n",
      "24. The world could run on older hardware if software optimization was a priority (twitter.com/id_aa_carmack)\n",
      "670 points by turrini 21 hours ago  | hide | 615 comments \n",
      "\n",
      "\n",
      "\n",
      "25. Using obscure graph theory to solve programming languages problems (reasonablypolymorphic.com)\n",
      "55 points by matt_d 11 hours ago  | hide | 8 comments \n",
      "\n",
      "\n",
      "\n",
      "26. A tool to verify estimates, II: a flexible proof assistant (terrytao.wordpress.com)\n",
      "42 points by jjgreen 9 hours ago  | hide | discuss \n",
      "\n",
      "\n",
      "\n",
      "27. I learned Snobol and then wrote a toy Forth (ratfactor.com)\n",
      "128 points by ingve 20 hours ago  | hide | 33 comments \n",
      "\n",
      "\n",
      "\n",
      "28. A visual history of the safety pin (museumofeverydaylife.org)\n",
      "24 points by andsoitis 7 hours ago  | hide | 3 comments \n",
      "\n",
      "\n",
      "\n",
      "29. OpenTelemetry protocol with Apache Arrow (opentelemetry.io)\n",
      "87 points by tanelpoder 13 hours ago  | hide | 16 comments \n",
      "\n",
      "\n",
      "\n",
      "30. The great displacement is already well underway? (shawnfromportland.substack.com)\n",
      "325 points by JSLegendDev 1 day ago  | hide | 337 comments \n",
      "\n",
      "\n",
      "\n",
      "More \n",
      "\n",
      "\n",
      "\n",
      "Guidelines | FAQ | Lists | API | Security | Legal | Apply to YC | Contact\n",
      "Search:  \n",
      "\n",
      "\n",
      "\n"
     ]
    }
   ],
   "source": [
    "from bs4 import BeautifulSoup\n",
    "\n",
    "#Remove HTML tags\n",
    "soup = BeautifulSoup(r.text, \"html.parser\")\n",
    "print(soup.get_text())"
   ]
  },
  {
   "cell_type": "code",
   "execution_count": 28,
   "metadata": {},
   "outputs": [
    {
     "data": {
      "text/plain": [
       "<tr class=\"athing submission\" id=\"43980845\">\n",
       "<td align=\"right\" class=\"title\" valign=\"top\"><span class=\"rank\">1.</span></td> <td class=\"votelinks\" valign=\"top\"><center><a href=\"vote?id=43980845&amp;how=up&amp;goto=news\" id=\"up_43980845\"><div class=\"votearrow\" title=\"upvote\"></div></a></center></td><td class=\"title\"><span class=\"titleline\"><a href=\"https://www.sixthtone.com/news/1017072\">Bus stops here: Shanghai lets riders design their own routes</a><span class=\"sitebit comhead\"> (<a href=\"from?site=sixthtone.com\"><span class=\"sitestr\">sixthtone.com</span></a>)</span></span></td></tr>"
      ]
     },
     "execution_count": 28,
     "metadata": {},
     "output_type": "execute_result"
    }
   ],
   "source": [
    "# Find all articles\n",
    "summaries = soup.find_all(\"tr\", class_=\"athing\")\n",
    "summaries[0]"
   ]
  },
  {
   "cell_type": "code",
   "execution_count": 31,
   "metadata": {},
   "outputs": [
    {
     "data": {
      "text/plain": [
       "'Bus stops here: Shanghai lets riders design their own routes'"
      ]
     },
     "execution_count": 31,
     "metadata": {},
     "output_type": "execute_result"
    }
   ],
   "source": [
    "# Extract title\n",
    "summaries[0].find(\"span\", class_=\"titleline\").find(\"a\").get_text().strip()"
   ]
  },
  {
   "cell_type": "code",
   "execution_count": null,
   "metadata": {},
   "outputs": [
    {
     "name": "stdout",
     "output_type": "stream",
     "text": [
      "30 Article summaries found. Sample:\n",
      "Bus stops here: Shanghai lets riders design their own routes\n"
     ]
    }
   ],
   "source": [
    "# Find all articles, extract titles\n",
    "articles = []\n",
    "summaries = soup.find_all(\"tr\", class_=\"athing\")\n",
    "\n",
    "for summary in summaries:\n",
    "    titleline = summary.find(\"span\", class_=\"titleline\")\n",
    "    if titleline:\n",
    "        link = titleline.find(\"a\")\n",
    "        if link:\n",
    "            title = link.get_text().strip()\n",
    "            articles.append(title)\n",
    "\n",
    "print(len(articles), \"Article summaries found. Sample:\")\n",
    "if articles:\n",
    "    print(articles[0])\n",
    "else:\n",
    "    print(\"No articles found.\")\n",
    "\n"
   ]
  },
  {
   "cell_type": "markdown",
   "metadata": {},
   "source": [
    "## Normalization"
   ]
  },
  {
   "cell_type": "markdown",
   "metadata": {},
   "source": [
    "### Case Normalization"
   ]
  },
  {
   "cell_type": "code",
   "execution_count": 34,
   "metadata": {},
   "outputs": [
    {
     "name": "stdout",
     "output_type": "stream",
     "text": [
      "the first time you see the second renaissance it may look boring. look at it at least twice and definitely watch part 2. it will change your view of the matrix. are the human people the ones who started the war ? is ai a bad thing ?\n"
     ]
    }
   ],
   "source": [
    "# Sample text\n",
    "text = \"The first time you see The Second Renaissance it may look boring. Look at it at least twice and definitely watch part 2. It will change your view of the matrix. Are the human people the ones who started the war ? Is AI a bad thing ?\"\n",
    "text =text.lower()\n",
    "print(text)"
   ]
  },
  {
   "cell_type": "markdown",
   "metadata": {},
   "source": [
    "### Punctuation Removal"
   ]
  },
  {
   "cell_type": "code",
   "execution_count": 35,
   "metadata": {},
   "outputs": [
    {
     "name": "stdout",
     "output_type": "stream",
     "text": [
      "the first time you see the second renaissance it may look boring  look at it at least twice and definitely watch part 2  it will change your view of the matrix  are the human people the ones who started the war   is ai a bad thing  \n"
     ]
    }
   ],
   "source": [
    "import re\n",
    "\n",
    "text = re.sub(r\"[^a-zA-Z0-9]\", \" \",text)\n",
    "print(text)"
   ]
  },
  {
   "cell_type": "markdown",
   "metadata": {},
   "source": [
    "### Tokenization"
   ]
  },
  {
   "cell_type": "code",
   "execution_count": 37,
   "metadata": {},
   "outputs": [
    {
     "name": "stdout",
     "output_type": "stream",
     "text": [
      "['the', 'first', 'time', 'you', 'see', 'the', 'second', 'renaissance', 'it', 'may', 'look', 'boring', 'look', 'at', 'it', 'at', 'least', 'twice', 'and', 'definitely', 'watch', 'part', '2', 'it', 'will', 'change', 'your', 'view', 'of', 'the', 'matrix', 'are', 'the', 'human', 'people', 'the', 'ones', 'who', 'started', 'the', 'war', 'is', 'ai', 'a', 'bad', 'thing']\n"
     ]
    }
   ],
   "source": [
    "words = text.split()\n",
    "print(words)"
   ]
  },
  {
   "cell_type": "code",
   "execution_count": 38,
   "metadata": {},
   "outputs": [],
   "source": [
    "import os\n",
    "import nltk\n",
    "nltk.data.path.append(os.path.join(os.getcwd(), \"nltk_data\"))"
   ]
  },
  {
   "cell_type": "code",
   "execution_count": 39,
   "metadata": {},
   "outputs": [],
   "source": [
    "# Another sample text\n",
    "text = \"Dr. Smith graduated from the University of Washington. He later started an analytics firm called Lux, which catered to enterprise customers.\""
   ]
  },
  {
   "cell_type": "code",
   "execution_count": 40,
   "metadata": {},
   "outputs": [
    {
     "name": "stdout",
     "output_type": "stream",
     "text": [
      "['Dr.', 'Smith', 'graduated', 'from', 'the', 'University', 'of', 'Washington', '.', 'He', 'later', 'started', 'an', 'analytics', 'firm', 'called', 'Lux', ',', 'which', 'catered', 'to', 'enterprise', 'customers', '.']\n",
      "['Dr. Smith graduated from the University of Washington.', 'He later started an analytics firm called Lux, which catered to enterprise customers.']\n"
     ]
    }
   ],
   "source": [
    "from nltk.tokenize import word_tokenize, sent_tokenize\n",
    "words = word_tokenize(text)\n",
    "sentences = sent_tokenize(text)\n",
    "print(words)\n",
    "print(sentences)"
   ]
  },
  {
   "cell_type": "code",
   "execution_count": 41,
   "metadata": {},
   "outputs": [
    {
     "name": "stdout",
     "output_type": "stream",
     "text": [
      "['i', 'me', 'my', 'myself', 'we', 'our', 'ours', 'ourselves', 'you', \"you're\", \"you've\", \"you'll\", \"you'd\", 'your', 'yours', 'yourself', 'yourselves', 'he', 'him', 'his', 'himself', 'she', \"she's\", 'her', 'hers', 'herself', 'it', \"it's\", 'its', 'itself', 'they', 'them', 'their', 'theirs', 'themselves', 'what', 'which', 'who', 'whom', 'this', 'that', \"that'll\", 'these', 'those', 'am', 'is', 'are', 'was', 'were', 'be', 'been', 'being', 'have', 'has', 'had', 'having', 'do', 'does', 'did', 'doing', 'a', 'an', 'the', 'and', 'but', 'if', 'or', 'because', 'as', 'until', 'while', 'of', 'at', 'by', 'for', 'with', 'about', 'against', 'between', 'into', 'through', 'during', 'before', 'after', 'above', 'below', 'to', 'from', 'up', 'down', 'in', 'out', 'on', 'off', 'over', 'under', 'again', 'further', 'then', 'once', 'here', 'there', 'when', 'where', 'why', 'how', 'all', 'any', 'both', 'each', 'few', 'more', 'most', 'other', 'some', 'such', 'no', 'nor', 'not', 'only', 'own', 'same', 'so', 'than', 'too', 'very', 's', 't', 'can', 'will', 'just', 'don', \"don't\", 'should', \"should've\", 'now', 'd', 'll', 'm', 'o', 're', 've', 'y', 'ain', 'aren', \"aren't\", 'couldn', \"couldn't\", 'didn', \"didn't\", 'doesn', \"doesn't\", 'hadn', \"hadn't\", 'hasn', \"hasn't\", 'haven', \"haven't\", 'isn', \"isn't\", 'ma', 'mightn', \"mightn't\", 'mustn', \"mustn't\", 'needn', \"needn't\", 'shan', \"shan't\", 'shouldn', \"shouldn't\", 'wasn', \"wasn't\", 'weren', \"weren't\", 'won', \"won't\", 'wouldn', \"wouldn't\"]\n"
     ]
    }
   ],
   "source": [
    "# List stop words\n",
    "from nltk.corpus import stopwords\n",
    "print(stopwords.words(\"english\"))"
   ]
  },
  {
   "cell_type": "code",
   "execution_count": 43,
   "metadata": {},
   "outputs": [
    {
     "name": "stdout",
     "output_type": "stream",
     "text": [
      "['dr.', 'smith', 'graduated', 'university', 'washington.', 'later', 'started', 'analytics', 'firm', 'called', 'lux,', 'catered', 'enterprise', 'customers.']\n"
     ]
    }
   ],
   "source": [
    "text = \"Dr. Smith graduated from the University of Washington. He later started an analytics firm called Lux, which catered to enterprise customers.\"\n",
    "\n",
    "text = re.sub(r\"^a-zA-Z0-9\",\" \", text.lower())\n",
    "words = text.split()\n",
    "# Remove stop words\n",
    "words = [w for w in words if w not in stopwords.words(\"english\")]\n",
    "print(words)"
   ]
  },
  {
   "cell_type": "markdown",
   "metadata": {},
   "source": [
    "### Sentence Parsing"
   ]
  },
  {
   "cell_type": "code",
   "execution_count": 44,
   "metadata": {},
   "outputs": [
    {
     "name": "stdout",
     "output_type": "stream",
     "text": [
      "(S\n",
      "  (NP I)\n",
      "  (VP\n",
      "    (VP (V shot) (NP (Det an) (N elephant)))\n",
      "    (PP (P in) (NP (Det my) (N pajamas)))))\n",
      "(S\n",
      "  (NP I)\n",
      "  (VP\n",
      "    (V shot)\n",
      "    (NP (Det an) (N elephant) (PP (P in) (NP (Det my) (N pajamas))))))\n"
     ]
    }
   ],
   "source": [
    "import nltk\n",
    "\n",
    "# Define a custom grammar\n",
    "my_grammar = nltk.CFG.fromstring(\"\"\"\n",
    "S -> NP VP\n",
    "PP -> P NP\n",
    "NP -> Det N | Det N PP | 'I'\n",
    "VP -> V NP | VP PP\n",
    "Det -> 'an' | 'my'\n",
    "N -> 'elephant' | 'pajamas'\n",
    "V -> 'shot'\n",
    "P -> 'in'\n",
    "\"\"\")\n",
    "parser = nltk.ChartParser(my_grammar)\n",
    "\n",
    "# Parse a sentence\n",
    "sentence = word_tokenize(\"I shot an elephant in my pajamas\")\n",
    "for tree in parser.parse(sentence):\n",
    "    print(tree)"
   ]
  },
  {
   "cell_type": "markdown",
   "metadata": {},
   "source": [
    "## Stemming & Lemmatization"
   ]
  },
  {
   "cell_type": "markdown",
   "metadata": {},
   "source": [
    "### Stemming"
   ]
  },
  {
   "cell_type": "code",
   "execution_count": 45,
   "metadata": {},
   "outputs": [
    {
     "name": "stdout",
     "output_type": "stream",
     "text": [
      "['dr.', 'smith', 'graduat', 'univers', 'washington.', 'later', 'start', 'analyt', 'firm', 'call', 'lux,', 'cater', 'enterpris', 'customers.']\n"
     ]
    }
   ],
   "source": [
    "from nltk.stem.porter import PorterStemmer\n",
    "\n",
    "stemmed = [PorterStemmer().stem(w) for w in words]\n",
    "print(stemmed)"
   ]
  },
  {
   "cell_type": "markdown",
   "metadata": {},
   "source": [
    "### Lemmatization"
   ]
  },
  {
   "cell_type": "code",
   "execution_count": 47,
   "metadata": {},
   "outputs": [
    {
     "name": "stderr",
     "output_type": "stream",
     "text": [
      "[nltk_data] Downloading package wordnet to\n",
      "[nltk_data]     C:\\Users\\User\\AppData\\Roaming\\nltk_data...\n"
     ]
    },
    {
     "name": "stdout",
     "output_type": "stream",
     "text": [
      "['dr.', 'smith', 'graduated', 'university', 'washington.', 'later', 'started', 'analytics', 'firm', 'called', 'lux,', 'catered', 'enterprise', 'customers.']\n"
     ]
    }
   ],
   "source": [
    "from nltk.stem.wordnet import WordNetLemmatizer\n",
    "nltk.download(\"wordnet\")\n",
    "lemmed = [WordNetLemmatizer().lemmatize(w) for w in words]\n",
    "print(lemmed)"
   ]
  },
  {
   "cell_type": "code",
   "execution_count": 48,
   "metadata": {},
   "outputs": [
    {
     "name": "stdout",
     "output_type": "stream",
     "text": [
      "['dr.', 'smith', 'graduate', 'university', 'washington.', 'later', 'start', 'analytics', 'firm', 'call', 'lux,', 'cater', 'enterprise', 'customers.']\n"
     ]
    }
   ],
   "source": [
    "# Lemmatize verbs by specifying pos\n",
    "lemmed = [WordNetLemmatizer().lemmatize(w, pos='v') for w in lemmed]\n",
    "print(lemmed)"
   ]
  }
 ],
 "metadata": {
  "kernelspec": {
   "display_name": "nlp",
   "language": "python",
   "name": "python3"
  },
  "language_info": {
   "codemirror_mode": {
    "name": "ipython",
    "version": 3
   },
   "file_extension": ".py",
   "mimetype": "text/x-python",
   "name": "python",
   "nbconvert_exporter": "python",
   "pygments_lexer": "ipython3",
   "version": "3.11.3"
  }
 },
 "nbformat": 4,
 "nbformat_minor": 2
}
